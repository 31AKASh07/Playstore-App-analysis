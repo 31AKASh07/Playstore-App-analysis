{
  "nbformat": 4,
  "nbformat_minor": 0,
  "metadata": {
    "colab": {
      "provenance": [],
      "mount_file_id": "1zwhbX8GD3LIxpOExhsJy00k2iZrtg08z",
      "authorship_tag": "ABX9TyM4a0FozBrvABZ6OC/JzNjm",
      "include_colab_link": true
    },
    "kernelspec": {
      "name": "python3",
      "display_name": "Python 3"
    },
    "language_info": {
      "name": "python"
    }
  },
  "cells": [
    {
      "cell_type": "markdown",
      "metadata": {
        "id": "view-in-github",
        "colab_type": "text"
      },
      "source": [
        "<a href=\"https://colab.research.google.com/github/31AKASh07/Playstore-App-analysis/blob/main/PLAYSTORE.ipynb\" target=\"_parent\"><img src=\"https://colab.research.google.com/assets/colab-badge.svg\" alt=\"Open In Colab\"/></a>"
      ]
    },
    {
      "cell_type": "markdown",
      "source": [
        "**Project Name**    - PLAYSTORE REVIEW ANALYSIS\n",
        "\n"
      ],
      "metadata": {
        "id": "Wi-rFljcU8Aq"
      }
    },
    {
      "cell_type": "markdown",
      "source": [
        "**Project Type**-EDA\n",
        "\n",
        "\n",
        "**Contribution**-Individual"
      ],
      "metadata": {
        "id": "X8WUS8lNVMOq"
      }
    },
    {
      "cell_type": "markdown",
      "source": [
        "# **Project Summary -**"
      ],
      "metadata": {
        "id": "ObPa5qEnVooo"
      }
    },
    {
      "cell_type": "markdown",
      "source": [
        "# **GitHub Link -**"
      ],
      "metadata": {
        "id": "Q1DmVLH8WmCS"
      }
    },
    {
      "cell_type": "markdown",
      "source": [
        "# **Problem Statement**\n"
      ],
      "metadata": {
        "id": "HcwMtlzQWtv9"
      }
    },
    {
      "cell_type": "code",
      "source": [],
      "metadata": {
        "id": "VtROqA9HW9fA"
      },
      "execution_count": null,
      "outputs": []
    },
    {
      "cell_type": "code",
      "source": [
        "# Importing Libraries\n",
        "import pandas as pd\n",
        "import matplotlib.pyplot as plt\n",
        "import numpy as np # linear algebra\n",
        "import seaborn as sns\n"
      ],
      "metadata": {
        "id": "hZ_0DuPkXRSQ"
      },
      "execution_count": null,
      "outputs": []
    }
  ]
}